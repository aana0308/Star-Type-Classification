{
  "nbformat": 4,
  "nbformat_minor": 0,
  "metadata": {
    "colab": {
      "name": "Data Modelling.ipynb",
      "provenance": [],
      "collapsed_sections": [
        "z8N7eXQD4hRz"
      ]
    },
    "kernelspec": {
      "name": "python3",
      "display_name": "Python 3"
    },
    "language_info": {
      "name": "python"
    }
  },
  "cells": [
    {
      "cell_type": "markdown",
      "source": [
        "#Data Modelling#"
      ],
      "metadata": {
        "id": "C6tmLnz52vy3"
      }
    },
    {
      "cell_type": "markdown",
      "source": [
        "Import the required Python libraries"
      ],
      "metadata": {
        "id": "Xwb7FEfN231e"
      }
    },
    {
      "cell_type": "code",
      "source": [
        "import numpy as np\n",
        "import pandas as pd\n",
        "import matplotlib.pyplot as plt\n",
        "from sklearn.neighbors import KNeighborsClassifier\n",
        "from sklearn.tree import DecisionTreeClassifier\n",
        "from sklearn.metrics import classification_report,accuracy_score\n",
        "from sklearn.metrics import confusion_matrix"
      ],
      "metadata": {
        "id": "4Zpjk7Ae2zf-"
      },
      "execution_count": 31,
      "outputs": []
    },
    {
      "cell_type": "markdown",
      "source": [
        "Load final_dataset and d1 which was obtained from data cleaning"
      ],
      "metadata": {
        "id": "Yq5XSuDJ3P01"
      }
    },
    {
      "cell_type": "code",
      "metadata": {
        "colab": {
          "base_uri": "https://localhost:8080/",
          "height": 522
        },
        "outputId": "9903fb80-84cf-4200-d3dc-d57b27a528a5",
        "id": "fJAy_Raj4FEy"
      },
      "source": [
        "final_dataset=pd.read_csv('https://raw.githubusercontent.com/aana0308/Star-Type-Classification/main/data/final_dataset.csv')\n",
        "final_dataset"
      ],
      "execution_count": 10,
      "outputs": [
        {
          "output_type": "execute_result",
          "data": {
            "text/html": [
              "\n",
              "  <div id=\"df-28ac39ee-c2cd-4533-9c45-d32c8e8abfa1\">\n",
              "    <div class=\"colab-df-container\">\n",
              "      <div>\n",
              "<style scoped>\n",
              "    .dataframe tbody tr th:only-of-type {\n",
              "        vertical-align: middle;\n",
              "    }\n",
              "\n",
              "    .dataframe tbody tr th {\n",
              "        vertical-align: top;\n",
              "    }\n",
              "\n",
              "    .dataframe thead th {\n",
              "        text-align: right;\n",
              "    }\n",
              "</style>\n",
              "<table border=\"1\" class=\"dataframe\">\n",
              "  <thead>\n",
              "    <tr style=\"text-align: right;\">\n",
              "      <th></th>\n",
              "      <th>Unnamed: 0</th>\n",
              "      <th>Temperature</th>\n",
              "      <th>L</th>\n",
              "      <th>R</th>\n",
              "      <th>A_M</th>\n",
              "      <th>Color_Red</th>\n",
              "      <th>Color_blue-white</th>\n",
              "      <th>Color_White</th>\n",
              "      <th>Color_yellow-white</th>\n",
              "      <th>Color_Pale yellow orange</th>\n",
              "      <th>Color_Blue</th>\n",
              "      <th>Color_Orange</th>\n",
              "      <th>Color_Yellow</th>\n",
              "      <th>Color_Orange-Red</th>\n",
              "      <th>Spectral_Class_M</th>\n",
              "      <th>Spectral_Class_B</th>\n",
              "      <th>Spectral_Class_A</th>\n",
              "      <th>Spectral_Class_F</th>\n",
              "      <th>Spectral_Class_O</th>\n",
              "      <th>Spectral_Class_K</th>\n",
              "      <th>Spectral_Class_G</th>\n",
              "    </tr>\n",
              "  </thead>\n",
              "  <tbody>\n",
              "    <tr>\n",
              "      <th>0</th>\n",
              "      <td>0</td>\n",
              "      <td>-0.779382</td>\n",
              "      <td>-0.598624</td>\n",
              "      <td>-0.459210</td>\n",
              "      <td>1.116745</td>\n",
              "      <td>1.069045</td>\n",
              "      <td>-0.453905</td>\n",
              "      <td>-0.229416</td>\n",
              "      <td>-0.229416</td>\n",
              "      <td>-0.064685</td>\n",
              "      <td>-0.551677</td>\n",
              "      <td>-0.09167</td>\n",
              "      <td>-0.112509</td>\n",
              "      <td>-0.064685</td>\n",
              "      <td>1.078036</td>\n",
              "      <td>-0.486943</td>\n",
              "      <td>-0.293211</td>\n",
              "      <td>-0.276104</td>\n",
              "      <td>-0.447214</td>\n",
              "      <td>-0.160128</td>\n",
              "      <td>-0.064685</td>\n",
              "    </tr>\n",
              "    <tr>\n",
              "      <th>1</th>\n",
              "      <td>1</td>\n",
              "      <td>-0.782110</td>\n",
              "      <td>-0.598624</td>\n",
              "      <td>-0.459241</td>\n",
              "      <td>1.162414</td>\n",
              "      <td>1.069045</td>\n",
              "      <td>-0.453905</td>\n",
              "      <td>-0.229416</td>\n",
              "      <td>-0.229416</td>\n",
              "      <td>-0.064685</td>\n",
              "      <td>-0.551677</td>\n",
              "      <td>-0.09167</td>\n",
              "      <td>-0.112509</td>\n",
              "      <td>-0.064685</td>\n",
              "      <td>1.078036</td>\n",
              "      <td>-0.486943</td>\n",
              "      <td>-0.293211</td>\n",
              "      <td>-0.276104</td>\n",
              "      <td>-0.447214</td>\n",
              "      <td>-0.160128</td>\n",
              "      <td>-0.064685</td>\n",
              "    </tr>\n",
              "    <tr>\n",
              "      <th>2</th>\n",
              "      <td>2</td>\n",
              "      <td>-0.828477</td>\n",
              "      <td>-0.598624</td>\n",
              "      <td>-0.459342</td>\n",
              "      <td>1.362213</td>\n",
              "      <td>1.069045</td>\n",
              "      <td>-0.453905</td>\n",
              "      <td>-0.229416</td>\n",
              "      <td>-0.229416</td>\n",
              "      <td>-0.064685</td>\n",
              "      <td>-0.551677</td>\n",
              "      <td>-0.09167</td>\n",
              "      <td>-0.112509</td>\n",
              "      <td>-0.064685</td>\n",
              "      <td>1.078036</td>\n",
              "      <td>-0.486943</td>\n",
              "      <td>-0.293211</td>\n",
              "      <td>-0.276104</td>\n",
              "      <td>-0.447214</td>\n",
              "      <td>-0.160128</td>\n",
              "      <td>-0.064685</td>\n",
              "    </tr>\n",
              "    <tr>\n",
              "      <th>3</th>\n",
              "      <td>3</td>\n",
              "      <td>-0.807496</td>\n",
              "      <td>-0.598624</td>\n",
              "      <td>-0.459229</td>\n",
              "      <td>1.167171</td>\n",
              "      <td>1.069045</td>\n",
              "      <td>-0.453905</td>\n",
              "      <td>-0.229416</td>\n",
              "      <td>-0.229416</td>\n",
              "      <td>-0.064685</td>\n",
              "      <td>-0.551677</td>\n",
              "      <td>-0.09167</td>\n",
              "      <td>-0.112509</td>\n",
              "      <td>-0.064685</td>\n",
              "      <td>1.078036</td>\n",
              "      <td>-0.486943</td>\n",
              "      <td>-0.293211</td>\n",
              "      <td>-0.276104</td>\n",
              "      <td>-0.447214</td>\n",
              "      <td>-0.160128</td>\n",
              "      <td>-0.064685</td>\n",
              "    </tr>\n",
              "    <tr>\n",
              "      <th>4</th>\n",
              "      <td>4</td>\n",
              "      <td>-0.897819</td>\n",
              "      <td>-0.598624</td>\n",
              "      <td>-0.459340</td>\n",
              "      <td>1.491607</td>\n",
              "      <td>1.069045</td>\n",
              "      <td>-0.453905</td>\n",
              "      <td>-0.229416</td>\n",
              "      <td>-0.229416</td>\n",
              "      <td>-0.064685</td>\n",
              "      <td>-0.551677</td>\n",
              "      <td>-0.09167</td>\n",
              "      <td>-0.112509</td>\n",
              "      <td>-0.064685</td>\n",
              "      <td>1.078036</td>\n",
              "      <td>-0.486943</td>\n",
              "      <td>-0.293211</td>\n",
              "      <td>-0.276104</td>\n",
              "      <td>-0.447214</td>\n",
              "      <td>-0.160128</td>\n",
              "      <td>-0.064685</td>\n",
              "    </tr>\n",
              "    <tr>\n",
              "      <th>...</th>\n",
              "      <td>...</td>\n",
              "      <td>...</td>\n",
              "      <td>...</td>\n",
              "      <td>...</td>\n",
              "      <td>...</td>\n",
              "      <td>...</td>\n",
              "      <td>...</td>\n",
              "      <td>...</td>\n",
              "      <td>...</td>\n",
              "      <td>...</td>\n",
              "      <td>...</td>\n",
              "      <td>...</td>\n",
              "      <td>...</td>\n",
              "      <td>...</td>\n",
              "      <td>...</td>\n",
              "      <td>...</td>\n",
              "      <td>...</td>\n",
              "      <td>...</td>\n",
              "      <td>...</td>\n",
              "      <td>...</td>\n",
              "      <td>...</td>\n",
              "    </tr>\n",
              "    <tr>\n",
              "      <th>235</th>\n",
              "      <td>235</td>\n",
              "      <td>2.983743</td>\n",
              "      <td>1.494720</td>\n",
              "      <td>2.167974</td>\n",
              "      <td>-1.361718</td>\n",
              "      <td>-0.935414</td>\n",
              "      <td>-0.453905</td>\n",
              "      <td>-0.229416</td>\n",
              "      <td>-0.229416</td>\n",
              "      <td>-0.064685</td>\n",
              "      <td>1.812654</td>\n",
              "      <td>-0.09167</td>\n",
              "      <td>-0.112509</td>\n",
              "      <td>-0.064685</td>\n",
              "      <td>-0.927613</td>\n",
              "      <td>-0.486943</td>\n",
              "      <td>-0.293211</td>\n",
              "      <td>-0.276104</td>\n",
              "      <td>2.236068</td>\n",
              "      <td>-0.160128</td>\n",
              "      <td>-0.064685</td>\n",
              "    </tr>\n",
              "    <tr>\n",
              "      <th>236</th>\n",
              "      <td>236</td>\n",
              "      <td>2.133913</td>\n",
              "      <td>4.059319</td>\n",
              "      <td>1.854068</td>\n",
              "      <td>-1.428317</td>\n",
              "      <td>-0.935414</td>\n",
              "      <td>-0.453905</td>\n",
              "      <td>-0.229416</td>\n",
              "      <td>-0.229416</td>\n",
              "      <td>-0.064685</td>\n",
              "      <td>1.812654</td>\n",
              "      <td>-0.09167</td>\n",
              "      <td>-0.112509</td>\n",
              "      <td>-0.064685</td>\n",
              "      <td>-0.927613</td>\n",
              "      <td>-0.486943</td>\n",
              "      <td>-0.293211</td>\n",
              "      <td>-0.276104</td>\n",
              "      <td>2.236068</td>\n",
              "      <td>-0.160128</td>\n",
              "      <td>-0.064685</td>\n",
              "    </tr>\n",
              "    <tr>\n",
              "      <th>237</th>\n",
              "      <td>237</td>\n",
              "      <td>-0.175029</td>\n",
              "      <td>2.403157</td>\n",
              "      <td>2.297800</td>\n",
              "      <td>-1.437832</td>\n",
              "      <td>-0.935414</td>\n",
              "      <td>-0.453905</td>\n",
              "      <td>4.358899</td>\n",
              "      <td>-0.229416</td>\n",
              "      <td>-0.064685</td>\n",
              "      <td>-0.551677</td>\n",
              "      <td>-0.09167</td>\n",
              "      <td>-0.112509</td>\n",
              "      <td>-0.064685</td>\n",
              "      <td>-0.927613</td>\n",
              "      <td>-0.486943</td>\n",
              "      <td>3.410510</td>\n",
              "      <td>-0.276104</td>\n",
              "      <td>-0.447214</td>\n",
              "      <td>-0.160128</td>\n",
              "      <td>-0.064685</td>\n",
              "    </tr>\n",
              "    <tr>\n",
              "      <th>238</th>\n",
              "      <td>238</td>\n",
              "      <td>-0.132438</td>\n",
              "      <td>1.662878</td>\n",
              "      <td>1.695177</td>\n",
              "      <td>-1.485403</td>\n",
              "      <td>-0.935414</td>\n",
              "      <td>-0.453905</td>\n",
              "      <td>4.358899</td>\n",
              "      <td>-0.229416</td>\n",
              "      <td>-0.064685</td>\n",
              "      <td>-0.551677</td>\n",
              "      <td>-0.09167</td>\n",
              "      <td>-0.112509</td>\n",
              "      <td>-0.064685</td>\n",
              "      <td>-0.927613</td>\n",
              "      <td>-0.486943</td>\n",
              "      <td>3.410510</td>\n",
              "      <td>-0.276104</td>\n",
              "      <td>-0.447214</td>\n",
              "      <td>-0.160128</td>\n",
              "      <td>-0.064685</td>\n",
              "    </tr>\n",
              "    <tr>\n",
              "      <th>239</th>\n",
              "      <td>239</td>\n",
              "      <td>2.872754</td>\n",
              "      <td>1.048345</td>\n",
              "      <td>2.995370</td>\n",
              "      <td>-1.159064</td>\n",
              "      <td>-0.935414</td>\n",
              "      <td>-0.453905</td>\n",
              "      <td>-0.229416</td>\n",
              "      <td>-0.229416</td>\n",
              "      <td>-0.064685</td>\n",
              "      <td>1.812654</td>\n",
              "      <td>-0.09167</td>\n",
              "      <td>-0.112509</td>\n",
              "      <td>-0.064685</td>\n",
              "      <td>-0.927613</td>\n",
              "      <td>-0.486943</td>\n",
              "      <td>-0.293211</td>\n",
              "      <td>-0.276104</td>\n",
              "      <td>2.236068</td>\n",
              "      <td>-0.160128</td>\n",
              "      <td>-0.064685</td>\n",
              "    </tr>\n",
              "  </tbody>\n",
              "</table>\n",
              "<p>240 rows × 21 columns</p>\n",
              "</div>\n",
              "      <button class=\"colab-df-convert\" onclick=\"convertToInteractive('df-28ac39ee-c2cd-4533-9c45-d32c8e8abfa1')\"\n",
              "              title=\"Convert this dataframe to an interactive table.\"\n",
              "              style=\"display:none;\">\n",
              "        \n",
              "  <svg xmlns=\"http://www.w3.org/2000/svg\" height=\"24px\"viewBox=\"0 0 24 24\"\n",
              "       width=\"24px\">\n",
              "    <path d=\"M0 0h24v24H0V0z\" fill=\"none\"/>\n",
              "    <path d=\"M18.56 5.44l.94 2.06.94-2.06 2.06-.94-2.06-.94-.94-2.06-.94 2.06-2.06.94zm-11 1L8.5 8.5l.94-2.06 2.06-.94-2.06-.94L8.5 2.5l-.94 2.06-2.06.94zm10 10l.94 2.06.94-2.06 2.06-.94-2.06-.94-.94-2.06-.94 2.06-2.06.94z\"/><path d=\"M17.41 7.96l-1.37-1.37c-.4-.4-.92-.59-1.43-.59-.52 0-1.04.2-1.43.59L10.3 9.45l-7.72 7.72c-.78.78-.78 2.05 0 2.83L4 21.41c.39.39.9.59 1.41.59.51 0 1.02-.2 1.41-.59l7.78-7.78 2.81-2.81c.8-.78.8-2.07 0-2.86zM5.41 20L4 18.59l7.72-7.72 1.47 1.35L5.41 20z\"/>\n",
              "  </svg>\n",
              "      </button>\n",
              "      \n",
              "  <style>\n",
              "    .colab-df-container {\n",
              "      display:flex;\n",
              "      flex-wrap:wrap;\n",
              "      gap: 12px;\n",
              "    }\n",
              "\n",
              "    .colab-df-convert {\n",
              "      background-color: #E8F0FE;\n",
              "      border: none;\n",
              "      border-radius: 50%;\n",
              "      cursor: pointer;\n",
              "      display: none;\n",
              "      fill: #1967D2;\n",
              "      height: 32px;\n",
              "      padding: 0 0 0 0;\n",
              "      width: 32px;\n",
              "    }\n",
              "\n",
              "    .colab-df-convert:hover {\n",
              "      background-color: #E2EBFA;\n",
              "      box-shadow: 0px 1px 2px rgba(60, 64, 67, 0.3), 0px 1px 3px 1px rgba(60, 64, 67, 0.15);\n",
              "      fill: #174EA6;\n",
              "    }\n",
              "\n",
              "    [theme=dark] .colab-df-convert {\n",
              "      background-color: #3B4455;\n",
              "      fill: #D2E3FC;\n",
              "    }\n",
              "\n",
              "    [theme=dark] .colab-df-convert:hover {\n",
              "      background-color: #434B5C;\n",
              "      box-shadow: 0px 1px 3px 1px rgba(0, 0, 0, 0.15);\n",
              "      filter: drop-shadow(0px 1px 2px rgba(0, 0, 0, 0.3));\n",
              "      fill: #FFFFFF;\n",
              "    }\n",
              "  </style>\n",
              "\n",
              "      <script>\n",
              "        const buttonEl =\n",
              "          document.querySelector('#df-28ac39ee-c2cd-4533-9c45-d32c8e8abfa1 button.colab-df-convert');\n",
              "        buttonEl.style.display =\n",
              "          google.colab.kernel.accessAllowed ? 'block' : 'none';\n",
              "\n",
              "        async function convertToInteractive(key) {\n",
              "          const element = document.querySelector('#df-28ac39ee-c2cd-4533-9c45-d32c8e8abfa1');\n",
              "          const dataTable =\n",
              "            await google.colab.kernel.invokeFunction('convertToInteractive',\n",
              "                                                     [key], {});\n",
              "          if (!dataTable) return;\n",
              "\n",
              "          const docLinkHtml = 'Like what you see? Visit the ' +\n",
              "            '<a target=\"_blank\" href=https://colab.research.google.com/notebooks/data_table.ipynb>data table notebook</a>'\n",
              "            + ' to learn more about interactive tables.';\n",
              "          element.innerHTML = '';\n",
              "          dataTable['output_type'] = 'display_data';\n",
              "          await google.colab.output.renderOutput(dataTable, element);\n",
              "          const docLink = document.createElement('div');\n",
              "          docLink.innerHTML = docLinkHtml;\n",
              "          element.appendChild(docLink);\n",
              "        }\n",
              "      </script>\n",
              "    </div>\n",
              "  </div>\n",
              "  "
            ],
            "text/plain": [
              "     Unnamed: 0  Temperature  ...  Spectral_Class_K  Spectral_Class_G\n",
              "0             0    -0.779382  ...         -0.160128         -0.064685\n",
              "1             1    -0.782110  ...         -0.160128         -0.064685\n",
              "2             2    -0.828477  ...         -0.160128         -0.064685\n",
              "3             3    -0.807496  ...         -0.160128         -0.064685\n",
              "4             4    -0.897819  ...         -0.160128         -0.064685\n",
              "..          ...          ...  ...               ...               ...\n",
              "235         235     2.983743  ...         -0.160128         -0.064685\n",
              "236         236     2.133913  ...         -0.160128         -0.064685\n",
              "237         237    -0.175029  ...         -0.160128         -0.064685\n",
              "238         238    -0.132438  ...         -0.160128         -0.064685\n",
              "239         239     2.872754  ...         -0.160128         -0.064685\n",
              "\n",
              "[240 rows x 21 columns]"
            ]
          },
          "metadata": {},
          "execution_count": 10
        }
      ]
    },
    {
      "cell_type": "code",
      "source": [
        "dataset=pd.read_csv('https://raw.githubusercontent.com/aana0308/Star-Type-Classification/main/data/Stars.csv')\n",
        "dataset"
      ],
      "metadata": {
        "colab": {
          "base_uri": "https://localhost:8080/",
          "height": 423
        },
        "id": "pIP-f-G6idDl",
        "outputId": "436a4c55-4015-4f4b-f5da-af7ed0fc6524"
      },
      "execution_count": 11,
      "outputs": [
        {
          "output_type": "execute_result",
          "data": {
            "text/html": [
              "\n",
              "  <div id=\"df-e22f8b51-6b2c-42ff-9bdb-7ac71e85251c\">\n",
              "    <div class=\"colab-df-container\">\n",
              "      <div>\n",
              "<style scoped>\n",
              "    .dataframe tbody tr th:only-of-type {\n",
              "        vertical-align: middle;\n",
              "    }\n",
              "\n",
              "    .dataframe tbody tr th {\n",
              "        vertical-align: top;\n",
              "    }\n",
              "\n",
              "    .dataframe thead th {\n",
              "        text-align: right;\n",
              "    }\n",
              "</style>\n",
              "<table border=\"1\" class=\"dataframe\">\n",
              "  <thead>\n",
              "    <tr style=\"text-align: right;\">\n",
              "      <th></th>\n",
              "      <th>Temperature</th>\n",
              "      <th>L</th>\n",
              "      <th>R</th>\n",
              "      <th>A_M</th>\n",
              "      <th>Color</th>\n",
              "      <th>Spectral_Class</th>\n",
              "      <th>Type</th>\n",
              "    </tr>\n",
              "  </thead>\n",
              "  <tbody>\n",
              "    <tr>\n",
              "      <th>0</th>\n",
              "      <td>3068</td>\n",
              "      <td>0.002400</td>\n",
              "      <td>0.1700</td>\n",
              "      <td>16.12</td>\n",
              "      <td>Red</td>\n",
              "      <td>M</td>\n",
              "      <td>0</td>\n",
              "    </tr>\n",
              "    <tr>\n",
              "      <th>1</th>\n",
              "      <td>3042</td>\n",
              "      <td>0.000500</td>\n",
              "      <td>0.1542</td>\n",
              "      <td>16.60</td>\n",
              "      <td>Red</td>\n",
              "      <td>M</td>\n",
              "      <td>0</td>\n",
              "    </tr>\n",
              "    <tr>\n",
              "      <th>2</th>\n",
              "      <td>2600</td>\n",
              "      <td>0.000300</td>\n",
              "      <td>0.1020</td>\n",
              "      <td>18.70</td>\n",
              "      <td>Red</td>\n",
              "      <td>M</td>\n",
              "      <td>0</td>\n",
              "    </tr>\n",
              "    <tr>\n",
              "      <th>3</th>\n",
              "      <td>2800</td>\n",
              "      <td>0.000200</td>\n",
              "      <td>0.1600</td>\n",
              "      <td>16.65</td>\n",
              "      <td>Red</td>\n",
              "      <td>M</td>\n",
              "      <td>0</td>\n",
              "    </tr>\n",
              "    <tr>\n",
              "      <th>4</th>\n",
              "      <td>1939</td>\n",
              "      <td>0.000138</td>\n",
              "      <td>0.1030</td>\n",
              "      <td>20.06</td>\n",
              "      <td>Red</td>\n",
              "      <td>M</td>\n",
              "      <td>0</td>\n",
              "    </tr>\n",
              "    <tr>\n",
              "      <th>...</th>\n",
              "      <td>...</td>\n",
              "      <td>...</td>\n",
              "      <td>...</td>\n",
              "      <td>...</td>\n",
              "      <td>...</td>\n",
              "      <td>...</td>\n",
              "      <td>...</td>\n",
              "    </tr>\n",
              "    <tr>\n",
              "      <th>235</th>\n",
              "      <td>38940</td>\n",
              "      <td>374830.000000</td>\n",
              "      <td>1356.0000</td>\n",
              "      <td>-9.93</td>\n",
              "      <td>Blue</td>\n",
              "      <td>O</td>\n",
              "      <td>5</td>\n",
              "    </tr>\n",
              "    <tr>\n",
              "      <th>236</th>\n",
              "      <td>30839</td>\n",
              "      <td>834042.000000</td>\n",
              "      <td>1194.0000</td>\n",
              "      <td>-10.63</td>\n",
              "      <td>Blue</td>\n",
              "      <td>O</td>\n",
              "      <td>5</td>\n",
              "    </tr>\n",
              "    <tr>\n",
              "      <th>237</th>\n",
              "      <td>8829</td>\n",
              "      <td>537493.000000</td>\n",
              "      <td>1423.0000</td>\n",
              "      <td>-10.73</td>\n",
              "      <td>White</td>\n",
              "      <td>A</td>\n",
              "      <td>5</td>\n",
              "    </tr>\n",
              "    <tr>\n",
              "      <th>238</th>\n",
              "      <td>9235</td>\n",
              "      <td>404940.000000</td>\n",
              "      <td>1112.0000</td>\n",
              "      <td>-11.23</td>\n",
              "      <td>White</td>\n",
              "      <td>A</td>\n",
              "      <td>5</td>\n",
              "    </tr>\n",
              "    <tr>\n",
              "      <th>239</th>\n",
              "      <td>37882</td>\n",
              "      <td>294903.000000</td>\n",
              "      <td>1783.0000</td>\n",
              "      <td>-7.80</td>\n",
              "      <td>Blue</td>\n",
              "      <td>O</td>\n",
              "      <td>5</td>\n",
              "    </tr>\n",
              "  </tbody>\n",
              "</table>\n",
              "<p>240 rows × 7 columns</p>\n",
              "</div>\n",
              "      <button class=\"colab-df-convert\" onclick=\"convertToInteractive('df-e22f8b51-6b2c-42ff-9bdb-7ac71e85251c')\"\n",
              "              title=\"Convert this dataframe to an interactive table.\"\n",
              "              style=\"display:none;\">\n",
              "        \n",
              "  <svg xmlns=\"http://www.w3.org/2000/svg\" height=\"24px\"viewBox=\"0 0 24 24\"\n",
              "       width=\"24px\">\n",
              "    <path d=\"M0 0h24v24H0V0z\" fill=\"none\"/>\n",
              "    <path d=\"M18.56 5.44l.94 2.06.94-2.06 2.06-.94-2.06-.94-.94-2.06-.94 2.06-2.06.94zm-11 1L8.5 8.5l.94-2.06 2.06-.94-2.06-.94L8.5 2.5l-.94 2.06-2.06.94zm10 10l.94 2.06.94-2.06 2.06-.94-2.06-.94-.94-2.06-.94 2.06-2.06.94z\"/><path d=\"M17.41 7.96l-1.37-1.37c-.4-.4-.92-.59-1.43-.59-.52 0-1.04.2-1.43.59L10.3 9.45l-7.72 7.72c-.78.78-.78 2.05 0 2.83L4 21.41c.39.39.9.59 1.41.59.51 0 1.02-.2 1.41-.59l7.78-7.78 2.81-2.81c.8-.78.8-2.07 0-2.86zM5.41 20L4 18.59l7.72-7.72 1.47 1.35L5.41 20z\"/>\n",
              "  </svg>\n",
              "      </button>\n",
              "      \n",
              "  <style>\n",
              "    .colab-df-container {\n",
              "      display:flex;\n",
              "      flex-wrap:wrap;\n",
              "      gap: 12px;\n",
              "    }\n",
              "\n",
              "    .colab-df-convert {\n",
              "      background-color: #E8F0FE;\n",
              "      border: none;\n",
              "      border-radius: 50%;\n",
              "      cursor: pointer;\n",
              "      display: none;\n",
              "      fill: #1967D2;\n",
              "      height: 32px;\n",
              "      padding: 0 0 0 0;\n",
              "      width: 32px;\n",
              "    }\n",
              "\n",
              "    .colab-df-convert:hover {\n",
              "      background-color: #E2EBFA;\n",
              "      box-shadow: 0px 1px 2px rgba(60, 64, 67, 0.3), 0px 1px 3px 1px rgba(60, 64, 67, 0.15);\n",
              "      fill: #174EA6;\n",
              "    }\n",
              "\n",
              "    [theme=dark] .colab-df-convert {\n",
              "      background-color: #3B4455;\n",
              "      fill: #D2E3FC;\n",
              "    }\n",
              "\n",
              "    [theme=dark] .colab-df-convert:hover {\n",
              "      background-color: #434B5C;\n",
              "      box-shadow: 0px 1px 3px 1px rgba(0, 0, 0, 0.15);\n",
              "      filter: drop-shadow(0px 1px 2px rgba(0, 0, 0, 0.3));\n",
              "      fill: #FFFFFF;\n",
              "    }\n",
              "  </style>\n",
              "\n",
              "      <script>\n",
              "        const buttonEl =\n",
              "          document.querySelector('#df-e22f8b51-6b2c-42ff-9bdb-7ac71e85251c button.colab-df-convert');\n",
              "        buttonEl.style.display =\n",
              "          google.colab.kernel.accessAllowed ? 'block' : 'none';\n",
              "\n",
              "        async function convertToInteractive(key) {\n",
              "          const element = document.querySelector('#df-e22f8b51-6b2c-42ff-9bdb-7ac71e85251c');\n",
              "          const dataTable =\n",
              "            await google.colab.kernel.invokeFunction('convertToInteractive',\n",
              "                                                     [key], {});\n",
              "          if (!dataTable) return;\n",
              "\n",
              "          const docLinkHtml = 'Like what you see? Visit the ' +\n",
              "            '<a target=\"_blank\" href=https://colab.research.google.com/notebooks/data_table.ipynb>data table notebook</a>'\n",
              "            + ' to learn more about interactive tables.';\n",
              "          element.innerHTML = '';\n",
              "          dataTable['output_type'] = 'display_data';\n",
              "          await google.colab.output.renderOutput(dataTable, element);\n",
              "          const docLink = document.createElement('div');\n",
              "          docLink.innerHTML = docLinkHtml;\n",
              "          element.appendChild(docLink);\n",
              "        }\n",
              "      </script>\n",
              "    </div>\n",
              "  </div>\n",
              "  "
            ],
            "text/plain": [
              "     Temperature              L          R    A_M  Color Spectral_Class  Type\n",
              "0           3068       0.002400     0.1700  16.12    Red              M     0\n",
              "1           3042       0.000500     0.1542  16.60    Red              M     0\n",
              "2           2600       0.000300     0.1020  18.70    Red              M     0\n",
              "3           2800       0.000200     0.1600  16.65    Red              M     0\n",
              "4           1939       0.000138     0.1030  20.06    Red              M     0\n",
              "..           ...            ...        ...    ...    ...            ...   ...\n",
              "235        38940  374830.000000  1356.0000  -9.93   Blue              O     5\n",
              "236        30839  834042.000000  1194.0000 -10.63   Blue              O     5\n",
              "237         8829  537493.000000  1423.0000 -10.73  White              A     5\n",
              "238         9235  404940.000000  1112.0000 -11.23  White              A     5\n",
              "239        37882  294903.000000  1783.0000  -7.80   Blue              O     5\n",
              "\n",
              "[240 rows x 7 columns]"
            ]
          },
          "metadata": {},
          "execution_count": 11
        }
      ]
    },
    {
      "cell_type": "markdown",
      "source": [
        "Split data in final_dataset into training and testing data"
      ],
      "metadata": {
        "id": "iQgcg8YQ57gD"
      }
    },
    {
      "cell_type": "code",
      "source": [
        "x = final_dataset\n",
        "y = dataset['Type']\n",
        "x,y"
      ],
      "metadata": {
        "id": "9yBTVoDy4mAE",
        "colab": {
          "base_uri": "https://localhost:8080/"
        },
        "outputId": "fdefaf63-76d3-44a5-9fdf-d6ba64048cea"
      },
      "execution_count": 12,
      "outputs": [
        {
          "output_type": "execute_result",
          "data": {
            "text/plain": [
              "(     Unnamed: 0  Temperature  ...  Spectral_Class_K  Spectral_Class_G\n",
              " 0             0    -0.779382  ...         -0.160128         -0.064685\n",
              " 1             1    -0.782110  ...         -0.160128         -0.064685\n",
              " 2             2    -0.828477  ...         -0.160128         -0.064685\n",
              " 3             3    -0.807496  ...         -0.160128         -0.064685\n",
              " 4             4    -0.897819  ...         -0.160128         -0.064685\n",
              " ..          ...          ...  ...               ...               ...\n",
              " 235         235     2.983743  ...         -0.160128         -0.064685\n",
              " 236         236     2.133913  ...         -0.160128         -0.064685\n",
              " 237         237    -0.175029  ...         -0.160128         -0.064685\n",
              " 238         238    -0.132438  ...         -0.160128         -0.064685\n",
              " 239         239     2.872754  ...         -0.160128         -0.064685\n",
              " \n",
              " [240 rows x 21 columns], 0      0\n",
              " 1      0\n",
              " 2      0\n",
              " 3      0\n",
              " 4      0\n",
              "       ..\n",
              " 235    5\n",
              " 236    5\n",
              " 237    5\n",
              " 238    5\n",
              " 239    5\n",
              " Name: Type, Length: 240, dtype: int64)"
            ]
          },
          "metadata": {},
          "execution_count": 12
        }
      ]
    },
    {
      "cell_type": "code",
      "source": [
        "x_train, x_test, y_train, y_test = train_test_split(x, y, test_size = 0.20)"
      ],
      "metadata": {
        "id": "xWFuVksbEzmp"
      },
      "execution_count": 13,
      "outputs": []
    },
    {
      "cell_type": "markdown",
      "source": [
        "#KNN#"
      ],
      "metadata": {
        "id": "z8N7eXQD4hRz"
      }
    },
    {
      "cell_type": "markdown",
      "source": [
        "Fitting KNN Classifier model to the data"
      ],
      "metadata": {
        "id": "zJX_gEhWF1OY"
      }
    },
    {
      "cell_type": "code",
      "source": [
        "knn = KNeighborsClassifier(n_neighbors=5)\n",
        "knn.fit(x_train, y_train)"
      ],
      "metadata": {
        "colab": {
          "base_uri": "https://localhost:8080/"
        },
        "id": "jopcrS42F207",
        "outputId": "828e5f10-a050-4344-d625-0464f0177b89"
      },
      "execution_count": 14,
      "outputs": [
        {
          "output_type": "execute_result",
          "data": {
            "text/plain": [
              "KNeighborsClassifier()"
            ]
          },
          "metadata": {},
          "execution_count": 14
        }
      ]
    },
    {
      "cell_type": "markdown",
      "source": [
        "Prediciting using model"
      ],
      "metadata": {
        "id": "dTDSLcoPnPxw"
      }
    },
    {
      "cell_type": "code",
      "source": [
        "pred = knn.predict(x_test)\n",
        "pred"
      ],
      "metadata": {
        "colab": {
          "base_uri": "https://localhost:8080/"
        },
        "id": "_9mLdJQFm6za",
        "outputId": "2bb3d093-7a32-4688-db23-625aefd1bdd9"
      },
      "execution_count": 15,
      "outputs": [
        {
          "output_type": "execute_result",
          "data": {
            "text/plain": [
              "array([2, 3, 5, 1, 2, 1, 2, 3, 5, 2, 0, 2, 0, 3, 5, 4, 3, 4, 3, 0, 0, 0,\n",
              "       2, 4, 4, 3, 3, 4, 5, 4, 5, 5, 5, 4, 2, 1, 0, 0, 2, 5, 1, 5, 5, 0,\n",
              "       0, 2, 0, 0])"
            ]
          },
          "metadata": {},
          "execution_count": 15
        }
      ]
    },
    {
      "cell_type": "markdown",
      "source": [
        "Checking accuracy of KNN model"
      ],
      "metadata": {
        "id": "VkrzUrHuHSNM"
      }
    },
    {
      "cell_type": "code",
      "source": [
        "print(classification_report(y_test,pred))"
      ],
      "metadata": {
        "colab": {
          "base_uri": "https://localhost:8080/"
        },
        "id": "MzSGStY8HWa-",
        "outputId": "906b7690-9ef9-40d4-9ddb-04a0e4d1a9c4"
      },
      "execution_count": 19,
      "outputs": [
        {
          "output_type": "stream",
          "name": "stdout",
          "text": [
            "              precision    recall  f1-score   support\n",
            "\n",
            "           0       1.00      0.92      0.96        12\n",
            "           1       1.00      1.00      1.00         4\n",
            "           2       1.00      1.00      1.00         9\n",
            "           3       1.00      1.00      1.00         7\n",
            "           4       1.00      1.00      1.00         7\n",
            "           5       0.90      1.00      0.95         9\n",
            "\n",
            "    accuracy                           0.98        48\n",
            "   macro avg       0.98      0.99      0.98        48\n",
            "weighted avg       0.98      0.98      0.98        48\n",
            "\n"
          ]
        }
      ]
    },
    {
      "cell_type": "markdown",
      "source": [
        "Finding k-value for best accuracy"
      ],
      "metadata": {
        "id": "ppI2gI4hobQh"
      }
    },
    {
      "cell_type": "code",
      "source": [
        "error_rate= []\n",
        "for i in range(1,40):\n",
        "    knn = KNeighborsClassifier(n_neighbors = i)\n",
        "    knn.fit(x_train,y_train)\n",
        "    pred_i = knn.predict(x_test)\n",
        "    error_rate.append(np.mean(pred_i != y_test))\n",
        "\n",
        "plt.figure(figsize = (10,6))\n",
        "plt.plot(range(1,40),error_rate,color = 'blue',linestyle = '--',marker = 'o',markerfacecolor='red',markersize = 10)\n",
        "plt.title('Error Rate vs K')\n",
        "plt.xlabel('K')\n",
        "plt.ylabel('Error Rate')"
      ],
      "metadata": {
        "colab": {
          "base_uri": "https://localhost:8080/",
          "height": 422
        },
        "id": "2Jq3BV7dozk3",
        "outputId": "771bde21-f0b7-4fbd-a390-cbfe1eda21ba"
      },
      "execution_count": 24,
      "outputs": [
        {
          "output_type": "execute_result",
          "data": {
            "text/plain": [
              "Text(0, 0.5, 'Error Rate')"
            ]
          },
          "metadata": {},
          "execution_count": 24
        },
        {
          "output_type": "display_data",
          "data": {
            "image/png": "[encoded data removed]",
            "text/plain": [
              "<Figure size 720x432 with 1 Axes>"
            ]
          },
          "metadata": {
            "needs_background": "light"
          }
        }
      ]
    },
    {
      "cell_type": "markdown",
      "source": [
        "From the above graph we can conclude that the chosen k value (k = 5) is the best k value for achieving highest accuracy"
      ],
      "metadata": {
        "id": "uuSR1nXPpEMF"
      }
    },
    {
      "cell_type": "code",
      "source": [
        "print(\"Accuracy score of KNN Model with k=5 :\",accuracy_score(y_test,pred)*100,\"%\")"
      ],
      "metadata": {
        "colab": {
          "base_uri": "https://localhost:8080/"
        },
        "id": "Hm4DoFDMpUXJ",
        "outputId": "57e5449c-f486-4736-dd37-eaadc89bddf1"
      },
      "execution_count": 28,
      "outputs": [
        {
          "output_type": "stream",
          "name": "stdout",
          "text": [
            "Accuracy score of KNN Model with k=5 : 97.91666666666666 %\n"
          ]
        }
      ]
    },
    {
      "cell_type": "markdown",
      "source": [
        "#Decision Tree#"
      ],
      "metadata": {
        "id": "TygRLMKvqiY0"
      }
    },
    {
      "cell_type": "code",
      "source": [
        "# Function to perform training with entropy.\n",
        "def train_using_entropy(X_train, X_test, y_train):\n",
        "  \n",
        "    # Decision tree with entropy\n",
        "    clf_entropy = DecisionTreeClassifier(\n",
        "            criterion = \"entropy\", random_state = 100,\n",
        "            max_depth = 3, min_samples_leaf = 5)\n",
        "  \n",
        "    # Performing training\n",
        "    clf_entropy.fit(X_train, y_train)\n",
        "    return clf_entropy\n",
        "  \n",
        "  \n",
        "# Function to make predictions\n",
        "def prediction(X_test, clf_object):\n",
        "  \n",
        "    # Predicton on test with giniIndex\n",
        "    y_pred = clf_object.predict(X_test)\n",
        "    print(\"Predicted values:\")\n",
        "    print(y_pred)\n",
        "    return y_pred\n",
        "      \n",
        "# Function to calculate accuracy\n",
        "def cal_accuracy(y_test, y_pred):\n",
        "      \n",
        "    print(\"Confusion Matrix: \",\n",
        "        confusion_matrix(y_test, y_pred))\n",
        "      \n",
        "    print (\"Accuracy : \",\n",
        "    accuracy_score(y_test,y_pred)*100)\n",
        "      \n",
        "    print(\"Report : \",\n",
        "    classification_report(y_test, y_pred))"
      ],
      "metadata": {
        "id": "KtOKgBzUt39Y"
      },
      "execution_count": 33,
      "outputs": []
    },
    {
      "cell_type": "code",
      "source": [
        "clf_entropy = train_using_entropy(x_train, x_test, y_train)\n",
        "# Prediction using entropy\n",
        "y_pred_entropy = prediction(x_test, clf_entropy)\n",
        "cal_accuracy(y_test, y_pred_entropy)"
      ],
      "metadata": {
        "colab": {
          "base_uri": "https://localhost:8080/"
        },
        "id": "2RC73pAE5_rn",
        "outputId": "477d3b6d-9bce-419a-cf21-944f69e57890"
      },
      "execution_count": 40,
      "outputs": [
        {
          "output_type": "stream",
          "name": "stdout",
          "text": [
            "Predicted values:\n",
            "[2 3 5 1 2 1 2 3 5 2 0 2 0 3 5 4 3 4 3 0 0 0 2 4 4 3 3 4 5 4 0 5 5 4 2 1 0\n",
            " 0 2 5 1 5 5 0 0 2 0 0]\n",
            "Confusion Matrix:  [[12  0  0  0  0  0]\n",
            " [ 0  4  0  0  0  0]\n",
            " [ 0  0  9  0  0  0]\n",
            " [ 0  0  0  7  0  0]\n",
            " [ 0  0  0  0  7  0]\n",
            " [ 0  0  0  0  0  9]]\n",
            "Accuracy :  100.0\n",
            "Report :                precision    recall  f1-score   support\n",
            "\n",
            "           0       1.00      1.00      1.00        12\n",
            "           1       1.00      1.00      1.00         4\n",
            "           2       1.00      1.00      1.00         9\n",
            "           3       1.00      1.00      1.00         7\n",
            "           4       1.00      1.00      1.00         7\n",
            "           5       1.00      1.00      1.00         9\n",
            "\n",
            "    accuracy                           1.00        48\n",
            "   macro avg       1.00      1.00      1.00        48\n",
            "weighted avg       1.00      1.00      1.00        48\n",
            "\n"
          ]
        }
      ]
    },
    {
      "cell_type": "markdown",
      "source": [
        "#Saving the models#"
      ],
      "metadata": {
        "id": "ADcWYPKloV9w"
      }
    },
    {
      "cell_type": "code",
      "source": [
        "import pickle\n",
        "\n",
        "Pkl_Filename1 = \"KNN_Model.pkl\"  \n",
        "with open(Pkl_Filename1, 'wb') as file:  \n",
        "    pickle.dump(knn, file)\n",
        "\n",
        "Pkl_Filename2 = \"Decision_Tree_Model.pkl\"  \n",
        "with open(Pkl_Filename2, 'wb') as file:  \n",
        "    pickle.dump(clf_entropy, file)"
      ],
      "metadata": {
        "id": "GeNHyA03T7CH"
      },
      "execution_count": 42,
      "outputs": []
    }
  ]
}